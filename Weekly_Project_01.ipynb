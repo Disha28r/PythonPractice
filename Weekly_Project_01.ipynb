{
  "nbformat": 4,
  "nbformat_minor": 0,
  "metadata": {
    "colab": {
      "provenance": [],
      "authorship_tag": "ABX9TyP7ItpHtZiBO8xFuKkD98BX",
      "include_colab_link": true
    },
    "kernelspec": {
      "name": "python3",
      "display_name": "Python 3"
    },
    "language_info": {
      "name": "python"
    }
  },
  "cells": [
    {
      "cell_type": "markdown",
      "metadata": {
        "id": "view-in-github",
        "colab_type": "text"
      },
      "source": [
        "<a href=\"https://colab.research.google.com/github/Disha28r/PythonPractice/blob/main/Weekly_Project_01.ipynb\" target=\"_parent\"><img src=\"https://colab.research.google.com/assets/colab-badge.svg\" alt=\"Open In Colab\"/></a>"
      ]
    },
    {
      "cell_type": "markdown",
      "source": [
        "At the start of the day you have a checklist\n",
        "\n",
        "The tasks which you were able to finish, should get added to completed_tasks\n",
        "\n",
        "The tasks which you were not able to finish, should get added to incomplete_tasks\n",
        "\n",
        "Explanation:\n",
        "\n",
        "This project is about organizing your daily tasks into two categories: completed tasks and incomplete tasks. Here’s how it works:\n",
        "\n",
        "1. At the start of the day, you create a checklist of tasks you want to accomplish.\n",
        "\n",
        "2. At the end of the day, you review which tasks you could finish and which you couldn’t.\n",
        "\n",
        "   – If a task is finished, you move it to the completed tasks list.\n",
        "\n",
        "   – If a task is not finished, you move it to the incomplete tasks list.\n",
        "\n",
        "This way, by the end of each day, you’ll have a clear overview of what you completed and what still needs attention."
      ],
      "metadata": {
        "id": "X-HyXAA35GAk"
      }
    },
    {
      "cell_type": "code",
      "source": [
        "completed_tasks=[]\n",
        "incomplete_tasks=[]\n",
        "\n",
        "\n",
        "def manage_tasks(checklist):\n",
        "  \"\"\"\n",
        "  Manages daily tasks, categorizing them as completed or incomplete.\n",
        "\n",
        "  Args:\n",
        "    checklist: A list of tasks to be managed.\n",
        "  \"\"\"\n",
        "\n",
        "  completed_tasks.clear()\n",
        "  incomplete_tasks.clear()\n",
        "\n",
        "  for task in checklist:\n",
        "    status=input(f\"Was '{task}' completed? (yes/no):\").lower()\n",
        "    if status=='yes':\n",
        "      completed_tasks.append(task)\n",
        "    elif status=='no':\n",
        "      incomplete_tasks.append(task)\n",
        "    else:\n",
        "      print(\"Invalid input. Please enter 'yes' or 'no'.\")\n",
        "      incomplete_tasks.append(task)\n"
      ],
      "metadata": {
        "id": "tNu9Xi8d5Jpn"
      },
      "execution_count": 2,
      "outputs": []
    },
    {
      "cell_type": "markdown",
      "source": [],
      "metadata": {
        "id": "1WZvXdUq9398"
      }
    }
  ]
}