{
  "nbformat": 4,
  "nbformat_minor": 0,
  "metadata": {
    "colab": {
      "provenance": [],
      "authorship_tag": "ABX9TyMmyFDlsZ03V5FofEVyhYcD",
      "include_colab_link": true
    },
    "kernelspec": {
      "name": "python3",
      "display_name": "Python 3"
    },
    "language_info": {
      "name": "python"
    }
  },
  "cells": [
    {
      "cell_type": "markdown",
      "metadata": {
        "id": "view-in-github",
        "colab_type": "text"
      },
      "source": [
        "<a href=\"https://colab.research.google.com/github/Disha28r/PythonPractice/blob/main/PythonusingAI.ipynb\" target=\"_parent\"><img src=\"https://colab.research.google.com/assets/colab-badge.svg\" alt=\"Open In Colab\"/></a>"
      ]
    },
    {
      "cell_type": "code",
      "source": [
        "# prompt: print hello world\n",
        "\n",
        "print(\"hello world\")"
      ],
      "metadata": {
        "colab": {
          "base_uri": "https://localhost:8080/"
        },
        "id": "VcGd6TRm_IuH",
        "outputId": "a64bce14-7036-4a42-d5eb-d80251b9d806"
      },
      "execution_count": 44,
      "outputs": [
        {
          "output_type": "stream",
          "name": "stdout",
          "text": [
            "hello world\n"
          ]
        }
      ]
    },
    {
      "cell_type": "code",
      "source": [
        "# int  str float"
      ],
      "metadata": {
        "id": "tmHxrNn0rHM-"
      },
      "execution_count": null,
      "outputs": []
    },
    {
      "cell_type": "code",
      "source": [
        "# # Control structures\n",
        "# comparison = >,<,>=,<=,==,!=\n",
        "tick_price=90\n",
        "wallet_price=100\n",
        "if tick_price <= wallet_price:\n",
        "  print(\"Hurray\")\n",
        "else:\n",
        "  print(\"oops\")"
      ],
      "metadata": {
        "colab": {
          "base_uri": "https://localhost:8080/"
        },
        "id": "w2vjFhlOrJ_x",
        "outputId": "190a6dda-6677-4d75-cc69-415086a3f438"
      },
      "execution_count": null,
      "outputs": [
        {
          "output_type": "stream",
          "name": "stdout",
          "text": [
            "Hurray\n"
          ]
        }
      ]
    },
    {
      "cell_type": "code",
      "source": [
        "#if elif else\n",
        "marks = 45"
      ],
      "metadata": {
        "id": "BCkBi7bDuOK5"
      },
      "execution_count": null,
      "outputs": []
    },
    {
      "cell_type": "code",
      "source": [
        "if(marks>=90):\n",
        "  print(\"A+\")\n",
        "elif (marks >=80):\n",
        "  print(\"A\")\n",
        "elif(marks >=70):\n",
        "  print(\"B+\")\n",
        "elif(marks >=60):\n",
        "  print(\"B\")\n",
        "else:\n",
        "  print(\"fail\")"
      ],
      "metadata": {
        "colab": {
          "base_uri": "https://localhost:8080/"
        },
        "id": "GS288-cUuhe-",
        "outputId": "eb8c0d20-386c-4460-858f-2a6b9a25b75d"
      },
      "execution_count": null,
      "outputs": [
        {
          "output_type": "stream",
          "name": "stdout",
          "text": [
            "fail\n"
          ]
        }
      ]
    },
    {
      "cell_type": "code",
      "source": [
        "#for range(start,end), in, n=n-1\n",
        "for i in range(10):\n",
        "  print(i)"
      ],
      "metadata": {
        "colab": {
          "base_uri": "https://localhost:8080/"
        },
        "id": "DyJP98h86wt7",
        "outputId": "ecd83a25-5abd-458a-b7a1-44ac9b522cf6"
      },
      "execution_count": 1,
      "outputs": [
        {
          "output_type": "stream",
          "name": "stdout",
          "text": [
            "0\n",
            "1\n",
            "2\n",
            "3\n",
            "4\n",
            "5\n",
            "6\n",
            "7\n",
            "8\n",
            "9\n"
          ]
        }
      ]
    },
    {
      "cell_type": "code",
      "source": [
        "for i in range(1,110):\n",
        "  if(i%10==0):\n",
        "    print(i)"
      ],
      "metadata": {
        "colab": {
          "base_uri": "https://localhost:8080/"
        },
        "id": "YDVqZZMckBXj",
        "outputId": "1ecc347e-7115-4a39-b953-8e2be6ab1a77"
      },
      "execution_count": 5,
      "outputs": [
        {
          "output_type": "stream",
          "name": "stdout",
          "text": [
            "10\n",
            "20\n",
            "30\n",
            "40\n",
            "50\n",
            "60\n",
            "70\n",
            "80\n",
            "90\n",
            "100\n"
          ]
        }
      ]
    },
    {
      "cell_type": "markdown",
      "source": [
        "**Day 5 - wprking with list**"
      ],
      "metadata": {
        "id": "COv3K5qdlUXP"
      }
    },
    {
      "cell_type": "markdown",
      "source": [
        "*creating list*"
      ],
      "metadata": {
        "id": "sYfUcp9zmooF"
      }
    },
    {
      "cell_type": "code",
      "source": [
        "items=[]"
      ],
      "metadata": {
        "id": "S-CuCJAikMpc"
      },
      "execution_count": 7,
      "outputs": []
    },
    {
      "cell_type": "code",
      "source": [
        "items=[\"speaker\",\"mic\",\"mobile\",\"laptop\"]"
      ],
      "metadata": {
        "id": "5j5rerwNmg92"
      },
      "execution_count": 8,
      "outputs": []
    },
    {
      "cell_type": "markdown",
      "source": [
        "*accessing elements*"
      ],
      "metadata": {
        "id": "I_IvPaC2myQG"
      }
    },
    {
      "cell_type": "code",
      "source": [
        "items[0]"
      ],
      "metadata": {
        "colab": {
          "base_uri": "https://localhost:8080/",
          "height": 36
        },
        "id": "m11dwD9xm4iZ",
        "outputId": "a8c87286-b7fc-4e9d-ca87-c9e0cc0e470b"
      },
      "execution_count": 9,
      "outputs": [
        {
          "output_type": "execute_result",
          "data": {
            "text/plain": [
              "'speaker'"
            ],
            "application/vnd.google.colaboratory.intrinsic+json": {
              "type": "string"
            }
          },
          "metadata": {},
          "execution_count": 9
        }
      ]
    },
    {
      "cell_type": "code",
      "source": [
        "items[2]"
      ],
      "metadata": {
        "colab": {
          "base_uri": "https://localhost:8080/",
          "height": 36
        },
        "id": "7773JqWKm7Km",
        "outputId": "cf787546-ce4e-401b-ced0-1df1bda49ed6"
      },
      "execution_count": 11,
      "outputs": [
        {
          "output_type": "execute_result",
          "data": {
            "text/plain": [
              "'mobile'"
            ],
            "application/vnd.google.colaboratory.intrinsic+json": {
              "type": "string"
            }
          },
          "metadata": {},
          "execution_count": 11
        }
      ]
    },
    {
      "cell_type": "markdown",
      "source": [
        "*Negative Indexing*"
      ],
      "metadata": {
        "id": "YYKKCwyynIbt"
      }
    },
    {
      "cell_type": "code",
      "source": [
        "items[-1]  #last element"
      ],
      "metadata": {
        "colab": {
          "base_uri": "https://localhost:8080/",
          "height": 36
        },
        "id": "LT5Uz6m0nDrn",
        "outputId": "f21349fb-3173-4917-f467-c41e6220a2f3"
      },
      "execution_count": 12,
      "outputs": [
        {
          "output_type": "execute_result",
          "data": {
            "text/plain": [
              "'laptop'"
            ],
            "application/vnd.google.colaboratory.intrinsic+json": {
              "type": "string"
            }
          },
          "metadata": {},
          "execution_count": 12
        }
      ]
    },
    {
      "cell_type": "markdown",
      "source": [
        "**Slicing a list [starting:n-1]**"
      ],
      "metadata": {
        "id": "jQvGhFLQnSAa"
      }
    },
    {
      "cell_type": "code",
      "source": [
        "items[0:2]"
      ],
      "metadata": {
        "colab": {
          "base_uri": "https://localhost:8080/"
        },
        "id": "VLdbrz2MnQz8",
        "outputId": "c3eede1e-1ab7-4099-b4bf-d541b53a08f5"
      },
      "execution_count": 14,
      "outputs": [
        {
          "output_type": "execute_result",
          "data": {
            "text/plain": [
              "['speaker', 'mic']"
            ]
          },
          "metadata": {},
          "execution_count": 14
        }
      ]
    },
    {
      "cell_type": "markdown",
      "source": [
        "**Modifying elements in a list**"
      ],
      "metadata": {
        "id": "WXiqjxjz0B7l"
      }
    },
    {
      "cell_type": "code",
      "source": [
        "items[3]=\"pc\""
      ],
      "metadata": {
        "id": "kMr77A0Oz8jB"
      },
      "execution_count": 16,
      "outputs": []
    },
    {
      "cell_type": "code",
      "source": [
        "items"
      ],
      "metadata": {
        "colab": {
          "base_uri": "https://localhost:8080/"
        },
        "id": "yBX57QzG0LwA",
        "outputId": "b834da98-5713-4644-f46b-b490ddc0fe59"
      },
      "execution_count": 17,
      "outputs": [
        {
          "output_type": "execute_result",
          "data": {
            "text/plain": [
              "['speaker', 'mic', 'mobile', 'pc']"
            ]
          },
          "metadata": {},
          "execution_count": 17
        }
      ]
    },
    {
      "cell_type": "markdown",
      "source": [
        "**Adding elements to a list**"
      ],
      "metadata": {
        "id": "-AeF8qAQ0VNZ"
      }
    },
    {
      "cell_type": "code",
      "source": [
        "items.append(\"headphone\")"
      ],
      "metadata": {
        "id": "Gcqj5KYd0ZmX"
      },
      "execution_count": 18,
      "outputs": []
    },
    {
      "cell_type": "code",
      "source": [
        "items\n"
      ],
      "metadata": {
        "colab": {
          "base_uri": "https://localhost:8080/"
        },
        "id": "zlmGv5gK0hYN",
        "outputId": "9c9658a0-ed15-4125-929a-ef3971dbdd94"
      },
      "execution_count": 19,
      "outputs": [
        {
          "output_type": "execute_result",
          "data": {
            "text/plain": [
              "['speaker', 'mic', 'mobile', 'pc', 'headphone']"
            ]
          },
          "metadata": {},
          "execution_count": 19
        }
      ]
    },
    {
      "cell_type": "code",
      "source": [
        "items.extend(\"iphone\",\"earpods\",\"chargers\")"
      ],
      "metadata": {
        "colab": {
          "base_uri": "https://localhost:8080/",
          "height": 146
        },
        "id": "rk4Ft3_B0iMT",
        "outputId": "1606f6f8-b105-4e40-f227-63e37c243685"
      },
      "execution_count": 22,
      "outputs": [
        {
          "output_type": "error",
          "ename": "TypeError",
          "evalue": "list.extend() takes exactly one argument (3 given)",
          "traceback": [
            "\u001b[0;31m---------------------------------------------------------------------------\u001b[0m",
            "\u001b[0;31mTypeError\u001b[0m                                 Traceback (most recent call last)",
            "\u001b[0;32m<ipython-input-22-f9d9aa78a82c>\u001b[0m in \u001b[0;36m<cell line: 0>\u001b[0;34m()\u001b[0m\n\u001b[0;32m----> 1\u001b[0;31m \u001b[0mitems\u001b[0m\u001b[0;34m.\u001b[0m\u001b[0mextend\u001b[0m\u001b[0;34m(\u001b[0m\u001b[0;34m\"iphone\"\u001b[0m\u001b[0;34m,\u001b[0m\u001b[0;34m\"earpods\"\u001b[0m\u001b[0;34m,\u001b[0m\u001b[0;34m\"chargers\"\u001b[0m\u001b[0;34m)\u001b[0m\u001b[0;34m\u001b[0m\u001b[0;34m\u001b[0m\u001b[0m\n\u001b[0m",
            "\u001b[0;31mTypeError\u001b[0m: list.extend() takes exactly one argument (3 given)"
          ]
        }
      ]
    },
    {
      "cell_type": "markdown",
      "source": [
        "**Removing**"
      ],
      "metadata": {
        "id": "bN8zmwdx08MA"
      }
    },
    {
      "cell_type": "code",
      "source": [
        "items.pop()"
      ],
      "metadata": {
        "colab": {
          "base_uri": "https://localhost:8080/",
          "height": 36
        },
        "id": "ganARgaN0ntb",
        "outputId": "90484e7c-8ddc-44f3-f187-5a23441f5b1a"
      },
      "execution_count": 23,
      "outputs": [
        {
          "output_type": "execute_result",
          "data": {
            "text/plain": [
              "'headphone'"
            ],
            "application/vnd.google.colaboratory.intrinsic+json": {
              "type": "string"
            }
          },
          "metadata": {},
          "execution_count": 23
        }
      ]
    },
    {
      "cell_type": "code",
      "source": [
        "items"
      ],
      "metadata": {
        "colab": {
          "base_uri": "https://localhost:8080/"
        },
        "id": "QTymz1lk030D",
        "outputId": "8928d82b-75fa-4a7b-9ab9-9f45c7588b2e"
      },
      "execution_count": 24,
      "outputs": [
        {
          "output_type": "execute_result",
          "data": {
            "text/plain": [
              "['speaker', 'mic', 'mobile', 'pc']"
            ]
          },
          "metadata": {},
          "execution_count": 24
        }
      ]
    },
    {
      "cell_type": "code",
      "source": [
        "del items[-1]"
      ],
      "metadata": {
        "id": "SjrU9BBt05SS"
      },
      "execution_count": 25,
      "outputs": []
    },
    {
      "cell_type": "code",
      "source": [
        "items"
      ],
      "metadata": {
        "colab": {
          "base_uri": "https://localhost:8080/"
        },
        "id": "7zD3T7UM1BaF",
        "outputId": "94f89287-bbc3-44d9-d916-17d70c95bb07"
      },
      "execution_count": 26,
      "outputs": [
        {
          "output_type": "execute_result",
          "data": {
            "text/plain": [
              "['speaker', 'mic', 'mobile']"
            ]
          },
          "metadata": {},
          "execution_count": 26
        }
      ]
    },
    {
      "cell_type": "code",
      "source": [
        "items.clear()"
      ],
      "metadata": {
        "id": "rC3CAc101Cs1"
      },
      "execution_count": 28,
      "outputs": []
    },
    {
      "cell_type": "code",
      "source": [
        "items"
      ],
      "metadata": {
        "colab": {
          "base_uri": "https://localhost:8080/"
        },
        "id": "aHIlUMB_1Ehn",
        "outputId": "524ef1c8-5cc3-431e-a5ca-c05f5cfd0e33"
      },
      "execution_count": 31,
      "outputs": [
        {
          "output_type": "execute_result",
          "data": {
            "text/plain": [
              "[]"
            ]
          },
          "metadata": {},
          "execution_count": 31
        }
      ]
    },
    {
      "cell_type": "markdown",
      "source": [
        "**adding another list**"
      ],
      "metadata": {
        "id": "w1WpZGtP1uwD"
      }
    },
    {
      "cell_type": "code",
      "source": [
        "items.extend([\"mic\",\"earphones\"])"
      ],
      "metadata": {
        "id": "9oho35Dv1GxM"
      },
      "execution_count": 32,
      "outputs": []
    },
    {
      "cell_type": "code",
      "source": [
        "items"
      ],
      "metadata": {
        "colab": {
          "base_uri": "https://localhost:8080/"
        },
        "id": "lIJMZto_1oOk",
        "outputId": "5f38a971-f8e1-4fe3-d59e-f24b1d69cb22"
      },
      "execution_count": 33,
      "outputs": [
        {
          "output_type": "execute_result",
          "data": {
            "text/plain": [
              "['mic', 'earphones']"
            ]
          },
          "metadata": {},
          "execution_count": 33
        }
      ]
    },
    {
      "cell_type": "code",
      "source": [
        "l=[\"nosebuds\",\"reciptors\",\"usb\"]"
      ],
      "metadata": {
        "id": "uHJOIPnu1zWn"
      },
      "execution_count": 34,
      "outputs": []
    },
    {
      "cell_type": "code",
      "source": [
        "items.extend(l)"
      ],
      "metadata": {
        "id": "kmS2190k15q6"
      },
      "execution_count": 35,
      "outputs": []
    },
    {
      "cell_type": "code",
      "source": [
        "items"
      ],
      "metadata": {
        "colab": {
          "base_uri": "https://localhost:8080/"
        },
        "id": "hCyCvjM318Yi",
        "outputId": "24fab64a-9c2d-4729-9dbc-e9d868f3b7a6"
      },
      "execution_count": 36,
      "outputs": [
        {
          "output_type": "execute_result",
          "data": {
            "text/plain": [
              "['mic', 'earphones', 'nosebuds', 'reciptors', 'usb']"
            ]
          },
          "metadata": {},
          "execution_count": 36
        }
      ]
    },
    {
      "cell_type": "markdown",
      "source": [
        "**checking for existence**"
      ],
      "metadata": {
        "id": "qSg0a29R2Eh-"
      }
    },
    {
      "cell_type": "code",
      "source": [
        "#are earbuds in list\n",
        "print(\"earbuds\" in items)"
      ],
      "metadata": {
        "colab": {
          "base_uri": "https://localhost:8080/"
        },
        "id": "PSSVSrsl1-qG",
        "outputId": "e950817e-27e6-4632-800b-bdf788b1c432"
      },
      "execution_count": 37,
      "outputs": [
        {
          "output_type": "stream",
          "name": "stdout",
          "text": [
            "False\n"
          ]
        }
      ]
    },
    {
      "cell_type": "code",
      "source": [
        "\"mic\" in items"
      ],
      "metadata": {
        "colab": {
          "base_uri": "https://localhost:8080/"
        },
        "id": "ngQu8Z8b2Pe5",
        "outputId": "1b25b796-5735-4385-eaec-24981c21f2a8"
      },
      "execution_count": 38,
      "outputs": [
        {
          "output_type": "execute_result",
          "data": {
            "text/plain": [
              "True"
            ]
          },
          "metadata": {},
          "execution_count": 38
        }
      ]
    },
    {
      "cell_type": "markdown",
      "source": [
        "**Length of items**"
      ],
      "metadata": {
        "id": "igsDNyUv2UZ6"
      }
    },
    {
      "cell_type": "code",
      "source": [
        "len(items)"
      ],
      "metadata": {
        "colab": {
          "base_uri": "https://localhost:8080/"
        },
        "id": "efRGK-cd2S2w",
        "outputId": "cb857abb-b42f-4474-a0fe-dedc630205a0"
      },
      "execution_count": 39,
      "outputs": [
        {
          "output_type": "execute_result",
          "data": {
            "text/plain": [
              "5"
            ]
          },
          "metadata": {},
          "execution_count": 39
        }
      ]
    },
    {
      "cell_type": "markdown",
      "source": [
        "**List comprehension**"
      ],
      "metadata": {
        "id": "TovbJ6022h0n"
      }
    },
    {
      "cell_type": "code",
      "source": [
        "scores=[70,80,90,95]"
      ],
      "metadata": {
        "id": "u39GOi6o2ZCx"
      },
      "execution_count": 41,
      "outputs": []
    },
    {
      "cell_type": "code",
      "source": [
        "for i in scores:\n",
        "  print(i/2)"
      ],
      "metadata": {
        "colab": {
          "base_uri": "https://localhost:8080/"
        },
        "id": "hfAon5OM2dkq",
        "outputId": "ef1fb13e-6fa4-41a7-d4c9-a3699c5c6912"
      },
      "execution_count": 42,
      "outputs": [
        {
          "output_type": "stream",
          "name": "stdout",
          "text": [
            "35.0\n",
            "40.0\n",
            "45.0\n",
            "47.5\n"
          ]
        }
      ]
    },
    {
      "cell_type": "code",
      "source": [
        "#list compreshension\n",
        "[i/2 for i in scores]"
      ],
      "metadata": {
        "colab": {
          "base_uri": "https://localhost:8080/"
        },
        "id": "EmTgL4An2tfM",
        "outputId": "ee25b5a0-9b42-4a04-873f-cdae0cde9df1"
      },
      "execution_count": 43,
      "outputs": [
        {
          "output_type": "execute_result",
          "data": {
            "text/plain": [
              "[35.0, 40.0, 45.0, 47.5]"
            ]
          },
          "metadata": {},
          "execution_count": 43
        }
      ]
    },
    {
      "cell_type": "code",
      "source": [],
      "metadata": {
        "id": "ahDAJXFn22Nk"
      },
      "execution_count": null,
      "outputs": []
    }
  ]
}